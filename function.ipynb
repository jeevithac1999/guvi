{
  "nbformat": 4,
  "nbformat_minor": 0,
  "metadata": {
    "colab": {
      "name": "function.ipynb",
      "provenance": [],
      "include_colab_link": true
    },
    "kernelspec": {
      "name": "python3",
      "display_name": "Python 3"
    }
  },
  "cells": [
    {
      "cell_type": "markdown",
      "metadata": {
        "id": "view-in-github",
        "colab_type": "text"
      },
      "source": [
        "<a href=\"https://colab.research.google.com/github/jeevithac1999/guvi/blob/code-from-google-colab/function.ipynb\" target=\"_parent\"><img src=\"https://colab.research.google.com/assets/colab-badge.svg\" alt=\"Open In Colab\"/></a>"
      ]
    },
    {
      "cell_type": "markdown",
      "metadata": {
        "id": "vIXfpw-kyR0A",
        "colab_type": "text"
      },
      "source": [
        "**Built-in functions as user-defined functions**"
      ]
    },
    {
      "cell_type": "markdown",
      "metadata": {
        "id": "y91nmFkhyppu",
        "colab_type": "text"
      },
      "source": [
        "Sorting"
      ]
    },
    {
      "cell_type": "code",
      "metadata": {
        "id": "5aWsKKrZyPtl",
        "colab_type": "code",
        "colab": {
          "base_uri": "https://localhost:8080/",
          "height": 52
        },
        "outputId": "a8c98506-d6bb-408e-f14e-77be53246bc2"
      },
      "source": [
        "l1=[int(i) for i in input('enter an array of integers to sort:').split(' ')]\n",
        "def sorting(l): \n",
        "  for i in range(len(l)):\n",
        "    for j in range(i + 1, len(l)):\n",
        "      if l[i] > l[j]:\n",
        "        l[i], l[j] = l[j], l[i]\n",
        "  return l\n",
        "print(sorting(l1))"
      ],
      "execution_count": 1,
      "outputs": [
        {
          "output_type": "stream",
          "text": [
            "enter an array of integers to sort:22 23 25 20 78 89 85 84 86\n",
            "[20, 22, 23, 25, 78, 84, 85, 86, 89]\n"
          ],
          "name": "stdout"
        }
      ]
    },
    {
      "cell_type": "markdown",
      "metadata": {
        "id": "LqwjsHVJyyqg",
        "colab_type": "text"
      },
      "source": [
        "Reverse"
      ]
    },
    {
      "cell_type": "code",
      "metadata": {
        "id": "glRlWdbly4W0",
        "colab_type": "code",
        "colab": {
          "base_uri": "https://localhost:8080/",
          "height": 52
        },
        "outputId": "a4bacbdc-9db0-4f2d-95a4-7afeb8965142"
      },
      "source": [
        "n=int(input(\"Enter number: \"))\n",
        "def reversing(n):\n",
        "  rev=0\n",
        "  while(n>0):\n",
        "    dig=n%10\n",
        "    rev=rev*10+dig\n",
        "    n=n//10\n",
        "  return rev\n",
        "print(\"Reverse of the number:\",reversing(n))"
      ],
      "execution_count": 2,
      "outputs": [
        {
          "output_type": "stream",
          "text": [
            "Enter number: 123\n",
            "Reverse of the number: 321\n"
          ],
          "name": "stdout"
        }
      ]
    },
    {
      "cell_type": "markdown",
      "metadata": {
        "id": "fEe44OKN0D83",
        "colab_type": "text"
      },
      "source": [
        "Replace"
      ]
    },
    {
      "cell_type": "code",
      "metadata": {
        "id": "-xef97-50Lnj",
        "colab_type": "code",
        "colab": {
          "base_uri": "https://localhost:8080/",
          "height": 87
        },
        "outputId": "0a166b74-83b2-4da3-9bd2-0b838a0e677c"
      },
      "source": [
        "s=input('enter a string:')\n",
        "x=input('enter a character to be replaced:')\n",
        "y=input('enter a character you want to replace with:')\n",
        "def replace(ch,ca1,ca2):\n",
        "    b = ''\n",
        "    for x in ch:\n",
        "        if x!= ca1:\n",
        "            b+= x\n",
        "        else:\n",
        "            b+=ca2\n",
        "    return b\n",
        "print(replace(s,x,y))"
      ],
      "execution_count": 3,
      "outputs": [
        {
          "output_type": "stream",
          "text": [
            "enter a string:cat\n",
            "enter a character to be replaced:c\n",
            "enter a character you want to replace with:b\n",
            "bat\n"
          ],
          "name": "stdout"
        }
      ]
    },
    {
      "cell_type": "markdown",
      "metadata": {
        "id": "osGerq4m8jKJ",
        "colab_type": "text"
      },
      "source": [
        "Swap"
      ]
    },
    {
      "cell_type": "code",
      "metadata": {
        "id": "I_nSYTSU8n75",
        "colab_type": "code",
        "colab": {
          "base_uri": "https://localhost:8080/",
          "height": 87
        },
        "outputId": "4f6e553d-7524-44b1-d4a8-90cd5fd3a448"
      },
      "source": [
        "x=int(input('enter x'))\n",
        "y=int(input('enter y'))\n",
        "print('value of x and y before swaping x=',x,' y=',y)\n",
        "t=x\n",
        "x=y\n",
        "y=t\n",
        "print('value of x and y after swaping x=',x,' y=',y)"
      ],
      "execution_count": 4,
      "outputs": [
        {
          "output_type": "stream",
          "text": [
            "enter x2\n",
            "enter y3\n",
            "value of x and y before swaping x= 2  y= 3\n",
            "value of x and y after swaping x= 3  y= 2\n"
          ],
          "name": "stdout"
        }
      ]
    },
    {
      "cell_type": "markdown",
      "metadata": {
        "id": "qtrRavoF9x5R",
        "colab_type": "text"
      },
      "source": [
        "power"
      ]
    },
    {
      "cell_type": "code",
      "metadata": {
        "id": "bW-HKrJr90Hk",
        "colab_type": "code",
        "colab": {
          "base_uri": "https://localhost:8080/",
          "height": 70
        },
        "outputId": "648be279-d7b8-4178-bbe0-e2ac74ea664f"
      },
      "source": [
        "n = int(input(\"Enter the number:\"))\n",
        "p = int(input(\"Enter the power:\"))\n",
        "def powers(n,p):\n",
        "  k = 1\n",
        "  for i in range(p):\n",
        "    k = k*n\n",
        "  return k\n",
        "print(powers(n,p))"
      ],
      "execution_count": 5,
      "outputs": [
        {
          "output_type": "stream",
          "text": [
            "Enter the number:5\n",
            "Enter the power:2\n",
            "25\n"
          ],
          "name": "stdout"
        }
      ]
    },
    {
      "cell_type": "markdown",
      "metadata": {
        "id": "OVGq-Wi2BuDC",
        "colab_type": "text"
      },
      "source": [
        "Count"
      ]
    },
    {
      "cell_type": "code",
      "metadata": {
        "id": "U2qsfm4jCE88",
        "colab_type": "code",
        "colab": {
          "base_uri": "https://localhost:8080/",
          "height": 70
        },
        "outputId": "e3c2792b-e2eb-445d-9ff0-9167b5810871"
      },
      "source": [
        "string=input(\"Enter string:\")\n",
        "def length(string):\n",
        "  count=0\n",
        "  for i in string:\n",
        "    count=count+1\n",
        "  return count\n",
        "print(\"Length of the string is:\")\n",
        "print(length(string))"
      ],
      "execution_count": 7,
      "outputs": [
        {
          "output_type": "stream",
          "text": [
            "Enter string:king\n",
            "Length of the string is:\n",
            "4\n"
          ],
          "name": "stdout"
        }
      ]
    },
    {
      "cell_type": "markdown",
      "metadata": {
        "id": "SsNa3nbvCJVg",
        "colab_type": "text"
      },
      "source": [
        "absolute"
      ]
    },
    {
      "cell_type": "code",
      "metadata": {
        "id": "53O8U8DrCiRw",
        "colab_type": "code",
        "colab": {
          "base_uri": "https://localhost:8080/",
          "height": 52
        },
        "outputId": "4543f2b8-ece6-4c3f-9ad0-6206edeb5471"
      },
      "source": [
        "n=int(input('enter a number to find its absolute value:'))\n",
        "def absolute(value):\n",
        "    if value<0:\n",
        "        return -value\n",
        "    return value\n",
        "print(absolute(n))"
      ],
      "execution_count": 9,
      "outputs": [
        {
          "output_type": "stream",
          "text": [
            "enter a number to find its absolute value:-5\n",
            "5\n"
          ],
          "name": "stdout"
        }
      ]
    },
    {
      "cell_type": "markdown",
      "metadata": {
        "id": "9jOt6BIwFTs8",
        "colab_type": "text"
      },
      "source": [
        "ascii"
      ]
    },
    {
      "cell_type": "code",
      "metadata": {
        "id": "JuFIlctXFWtV",
        "colab_type": "code",
        "colab": {
          "base_uri": "https://localhost:8080/",
          "height": 281
        },
        "outputId": "17c061c4-6600-46e9-e323-63ea23dc4b24"
      },
      "source": [
        "def asciivalue():\n",
        "  print('\\101')\n",
        "  print('\\102')\n",
        "  print('\\103')\n",
        "  print('\\104')\n",
        "  print('\\105')\n",
        "  print('\\106')\n",
        "  print('\\107')\n",
        "  print('\\110')\n",
        "  print('\\111')\n",
        "  print('\\112')\n",
        "  print('\\113')\n",
        "  print('\\114')\n",
        "  print('\\115')\n",
        "  print('\\116')\n",
        "  print('\\117')\n",
        "asciivalue()"
      ],
      "execution_count": 10,
      "outputs": [
        {
          "output_type": "stream",
          "text": [
            "A\n",
            "B\n",
            "C\n",
            "D\n",
            "E\n",
            "F\n",
            "G\n",
            "H\n",
            "I\n",
            "J\n",
            "K\n",
            "L\n",
            "M\n",
            "N\n",
            "O\n"
          ],
          "name": "stdout"
        }
      ]
    },
    {
      "cell_type": "markdown",
      "metadata": {
        "id": "tlmU_NodJzrP",
        "colab_type": "text"
      },
      "source": [
        "complex"
      ]
    },
    {
      "cell_type": "code",
      "metadata": {
        "id": "rJzSkig8J17y",
        "colab_type": "code",
        "colab": {
          "base_uri": "https://localhost:8080/",
          "height": 70
        },
        "outputId": "842d7255-7f9e-45f1-8974-c0aee8e4e161"
      },
      "source": [
        "real=input('enter the real part of complex number:')\n",
        "img=input('enter the imaginary part of complex number:')\n",
        "def complex(real,img):\n",
        "  if int(img)>0:\n",
        "    return real+'+'+img+'j'\n",
        "  else:\n",
        "    return real+'-'+str(abs(int(img)))+'j'\n",
        "print(complex(real,img))"
      ],
      "execution_count": 15,
      "outputs": [
        {
          "output_type": "stream",
          "text": [
            "enter the real part of complex number:5\n",
            "enter the imaginary part of complex number:-6\n",
            "5-6j\n"
          ],
          "name": "stdout"
        }
      ]
    },
    {
      "cell_type": "markdown",
      "metadata": {
        "id": "Cqt7vCVWM6uM",
        "colab_type": "text"
      },
      "source": [
        "calculator"
      ]
    },
    {
      "cell_type": "code",
      "metadata": {
        "id": "LTNCZl6ONBNg",
        "colab_type": "code",
        "colab": {}
      },
      "source": [
        ""
      ],
      "execution_count": 0,
      "outputs": []
    }
  ]
}