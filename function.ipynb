{
  "nbformat": 4,
  "nbformat_minor": 0,
  "metadata": {
    "colab": {
      "name": "function.ipynb",
      "provenance": [],
      "include_colab_link": true
    },
    "kernelspec": {
      "name": "python3",
      "display_name": "Python 3"
    }
  },
  "cells": [
    {
      "cell_type": "markdown",
      "metadata": {
        "id": "view-in-github",
        "colab_type": "text"
      },
      "source": [
        "<a href=\"https://colab.research.google.com/github/jeevithac1999/guvi/blob/master/function.ipynb\" target=\"_parent\"><img src=\"https://colab.research.google.com/assets/colab-badge.svg\" alt=\"Open In Colab\"/></a>"
      ]
    },
    {
      "cell_type": "markdown",
      "metadata": {
        "id": "Keg4DX4PaUQ_",
        "colab_type": "text"
      },
      "source": [
        "**Built-in functions as user-defined functions**"
      ]
    },
    {
      "cell_type": "markdown",
      "metadata": {
        "id": "4WqFPOCHagSC",
        "colab_type": "text"
      },
      "source": [
        "Power"
      ]
    },
    {
      "cell_type": "code",
      "metadata": {
        "id": "1VP2nHeSYjKr",
        "colab_type": "code",
        "colab": {
          "base_uri": "https://localhost:8080/",
          "height": 70
        },
        "outputId": "b3156605-01c6-4465-d1e3-9fa18a701214"
      },
      "source": [
        "n = int(input(\"Enter the number:\"))\n",
        "p = int(input(\"Enter the power:\"))\n",
        "k = 1\n",
        "for i in range(p):\n",
        "    k = k*n\n",
        "print(k)"
      ],
      "execution_count": 1,
      "outputs": [
        {
          "output_type": "stream",
          "text": [
            "Enter the number:2\n",
            "Enter the power:6\n",
            "64\n"
          ],
          "name": "stdout"
        }
      ]
    },
    {
      "cell_type": "markdown",
      "metadata": {
        "id": "Itcwpbk2iTzj",
        "colab_type": "text"
      },
      "source": [
        ""
      ]
    }
  ]
}